{
  "cells": [
    {
      "cell_type": "code",
      "execution_count": 1,
      "metadata": {
        "id": "tV2Ri9MZoBRd"
      },
      "outputs": [],
      "source": [
        "#Install required libraries\n",
        "\n",
        "import pandas as pd\n",
        "from sklearn.impute import SimpleImputer\n",
        "from mlxtend.frequent_patterns import apriori, association_rules\n",
        "import matplotlib.pyplot as plt\n",
        "import seaborn as sns\n",
        "from mlxtend.preprocessing import TransactionEncoder"
      ]
    },
    {
      "cell_type": "markdown",
      "metadata": {
        "id": "3JvZ6w5LoQJe"
      },
      "source": [
        "**DATA COLLECTION**"
      ]
    },
    {
      "cell_type": "code",
      "execution_count": 2,
      "metadata": {
        "colab": {
          "base_uri": "https://localhost:8080/"
        },
        "id": "hQ2jNlk9mrq3",
        "outputId": "28e01e77-daea-4830-bc04-ec02176ffd49"
      },
      "outputs": [
        {
          "output_type": "stream",
          "name": "stderr",
          "text": [
            "/usr/local/lib/python3.10/dist-packages/ipykernel/ipkernel.py:283: DeprecationWarning: `should_run_async` will not call `transform_cell` automatically in the future. Please pass the result to `transformed_cell` argument and any exception that happen during thetransform in `preprocessing_exc_tuple` in IPython 7.17 and above.\n",
            "  and should_run_async(code)\n"
          ]
        },
        {
          "output_type": "stream",
          "name": "stdout",
          "text": [
            "   order_id  product_id  add_to_cart_order  reordered           product_name  \\\n",
            "0         2       33120                  1          1     Organic Egg Whites   \n",
            "1         2       28985                  2          1  Michigan Organic Kale   \n",
            "2         2        9327                  3          0          Garlic Powder   \n",
            "3         2       45918                  4          1         Coconut Butter   \n",
            "4         2       30035                  5          0      Natural Sweetener   \n",
            "\n",
            "   aisle_id  department_id               aisle  \n",
            "0        86             16                eggs  \n",
            "1        83              4    fresh vegetables  \n",
            "2       104             13   spices seasonings  \n",
            "3        19             13       oils vinegars  \n",
            "4        17             13  baking ingredients  \n"
          ]
        }
      ],
      "source": [
        "# Load the data\n",
        "orders = pd.read_csv('orders.csv')\n",
        "order_products_prior = pd.read_csv('order_products__prior.csv')\n",
        "products = pd.read_csv('products.csv')\n",
        "aisles = pd.read_csv('aisles.csv')\n",
        "\n",
        "# Merge datasets to get complete information\n",
        "order_products = pd.merge(order_products_prior, products, on='product_id', how='left')\n",
        "order_products = pd.merge(order_products, aisles, on='aisle_id', how='left')\n",
        "\n",
        "# Display the first few rows\n",
        "print(order_products.head())\n"
      ]
    },
    {
      "cell_type": "markdown",
      "metadata": {
        "id": "H56va5EboVNU"
      },
      "source": [
        "**ENHANCED DATA CLEANING PROCESS**"
      ]
    },
    {
      "cell_type": "code",
      "execution_count": 3,
      "metadata": {
        "colab": {
          "base_uri": "https://localhost:8080/"
        },
        "id": "Mkyg1Vt4nz5A",
        "outputId": "4927c6cb-3f05-467f-dfe3-7e450e69689a"
      },
      "outputs": [
        {
          "output_type": "stream",
          "name": "stderr",
          "text": [
            "/usr/local/lib/python3.10/dist-packages/ipykernel/ipkernel.py:283: DeprecationWarning: `should_run_async` will not call `transform_cell` automatically in the future. Please pass the result to `transformed_cell` argument and any exception that happen during thetransform in `preprocessing_exc_tuple` in IPython 7.17 and above.\n",
            "  and should_run_async(code)\n"
          ]
        },
        {
          "output_type": "stream",
          "name": "stdout",
          "text": [
            "order_id             0\n",
            "product_id           0\n",
            "add_to_cart_order    0\n",
            "reordered            0\n",
            "product_name         0\n",
            "aisle_id             0\n",
            "department_id        0\n",
            "aisle                0\n",
            "dtype: int64\n",
            "Data after cleaning:\n",
            "   order_id  product_id  add_to_cart_order  reordered           product_name  \\\n",
            "0         2       33120          -1.031488          1     Organic Egg Whites   \n",
            "1         2       28985          -0.891170          1  Michigan Organic Kale   \n",
            "2         2        9327          -0.750852          0          Garlic Powder   \n",
            "3         2       45918          -0.610534          1         Coconut Butter   \n",
            "4         2       30035          -0.470216          0      Natural Sweetener   \n",
            "\n",
            "   aisle_id  department_id               aisle  \n",
            "0        86             16                eggs  \n",
            "1        83              4    fresh vegetables  \n",
            "2       104             13   spices seasonings  \n",
            "3        19             13       oils vinegars  \n",
            "4        17             13  baking ingredients  \n"
          ]
        }
      ],
      "source": [
        "\n",
        "# Check for missing values\n",
        "print(order_products.isnull().sum())\n",
        "\n",
        "# If there are any missing values in numerical columns, fill them (currently, there are none in 'add_to_cart_order')\n",
        "imputer_numeric = SimpleImputer(strategy='mean')\n",
        "order_products['add_to_cart_order'] = imputer_numeric.fit_transform(order_products[['add_to_cart_order']])\n",
        "\n",
        "# Remove duplicates\n",
        "order_products = order_products.drop_duplicates()\n",
        "\n",
        "# Normalize the 'add_to_cart_order' column if needed\n",
        "order_products['add_to_cart_order'] = (order_products['add_to_cart_order'] - order_products['add_to_cart_order'].mean()) / order_products['add_to_cart_order'].std()\n",
        "\n",
        "print(\"Data after cleaning:\")\n",
        "print(order_products.head())"
      ]
    },
    {
      "cell_type": "markdown",
      "metadata": {
        "id": "UqA_Zv8DoZpg"
      },
      "source": [
        "**PRODUCT PERFORMANCE ANALYSIS**"
      ]
    },
    {
      "cell_type": "code",
      "execution_count": 4,
      "metadata": {
        "colab": {
          "base_uri": "https://localhost:8080/"
        },
        "id": "-dAZ2RpCn5_V",
        "outputId": "bb09b2c7-9ef8-4d37-b00b-8fbf19d899e2"
      },
      "outputs": [
        {
          "output_type": "stream",
          "name": "stderr",
          "text": [
            "/usr/local/lib/python3.10/dist-packages/ipykernel/ipkernel.py:283: DeprecationWarning: `should_run_async` will not call `transform_cell` automatically in the future. Please pass the result to `transformed_cell` argument and any exception that happen during thetransform in `preprocessing_exc_tuple` in IPython 7.17 and above.\n",
            "  and should_run_async(code)\n"
          ]
        },
        {
          "output_type": "stream",
          "name": "stdout",
          "text": [
            "Top Performing Products:\n",
            "                 product_name  reordered  add_to_cart_order\n",
            "24848                  Banana     398609          -0.485072\n",
            "13172  Bag of Organic Bananas     315913          -0.456753\n",
            "21133    Organic Strawberries     205845          -0.154655\n",
            "21899    Organic Baby Spinach     186884          -0.129294\n",
            "47198    Organic Hass Avocado     170131          -0.221150\n",
            "47755         Organic Avocado     134044          -0.267510\n",
            "27839      Organic Whole Milk     114510          -0.409213\n",
            "47615             Large Lemon     106255          -0.056472\n",
            "27960     Organic Raspberries     105409          -0.159547\n",
            "16793            Strawberries      99802          -0.173290\n"
          ]
        }
      ],
      "source": [
        "# Group by product and aggregate sales and reorder rate\n",
        "product_performance = order_products.groupby('product_id').agg({\n",
        "    'reordered': 'sum',\n",
        "    'add_to_cart_order': 'mean'\n",
        "}).reset_index()\n",
        "\n",
        "# Merge with product details\n",
        "product_performance = pd.merge(product_performance, products[['product_id', 'product_name']], on='product_id', how='left')\n",
        "\n",
        "# Sort by reordered count\n",
        "top_products = product_performance.sort_values(by='reordered', ascending=False).head(10)\n",
        "\n",
        "print(\"Top Performing Products:\")\n",
        "print(top_products[['product_name', 'reordered', 'add_to_cart_order']])"
      ]
    },
    {
      "cell_type": "markdown",
      "metadata": {
        "id": "LXf3D1UDod9V"
      },
      "source": [
        "**PRODUCT AFFINITY AND COMPLEMENTARY ITEM ANALYSIS**"
      ]
    },
    {
      "cell_type": "code",
      "source": [
        "#Take a small sample of the dataset for memory management\n",
        "order_products_subset = order_products.sample(frac=0.5)\n",
        "\n",
        "#Prepare data for apriori using TransactionEncoder\n",
        "order_product_list = order_products_subset.groupby('order_id')['product_name'].apply(list)\n",
        "\n",
        "#Convert transactions into a list of lists\n",
        "te = TransactionEncoder()\n",
        "te_ary = te.fit_transform(order_product_list)\n",
        "order_product_df = pd.DataFrame(te_ary, columns=te.columns_)\n",
        "\n",
        "#Apply the Apriori algorithm with a lower min_support value\n",
        "frequent_itemsets = apriori(order_product_df, min_support=0.01, use_colnames=True)\n",
        "\n",
        "#Generate the association rules with a lower min_threshold for lift\n",
        "rules = association_rules(frequent_itemsets, metric='lift', min_threshold=0.5)\n",
        "\n",
        "#Display top product pairings\n",
        "top_rules = rules.sort_values(by='lift', ascending=False).head(10)\n",
        "print(\"Top Product Pairings:\")\n",
        "print(top_rules[['antecedents', 'consequents', 'support', 'confidence', 'lift']])"
      ],
      "metadata": {
        "colab": {
          "base_uri": "https://localhost:8080/"
        },
        "id": "BHomgkK0hwKv",
        "outputId": "b4a1b512-6255-4008-cbd7-c56527894d03"
      },
      "execution_count": 5,
      "outputs": [
        {
          "output_type": "stream",
          "name": "stderr",
          "text": [
            "/usr/local/lib/python3.10/dist-packages/ipykernel/ipkernel.py:283: DeprecationWarning: `should_run_async` will not call `transform_cell` automatically in the future. Please pass the result to `transformed_cell` argument and any exception that happen during thetransform in `preprocessing_exc_tuple` in IPython 7.17 and above.\n",
            "  and should_run_async(code)\n"
          ]
        },
        {
          "output_type": "stream",
          "name": "stdout",
          "text": [
            "Top Product Pairings:\n",
            "Empty DataFrame\n",
            "Columns: [antecedents, consequents, support, confidence, lift]\n",
            "Index: []\n"
          ]
        }
      ]
    },
    {
      "cell_type": "markdown",
      "metadata": {
        "id": "iksfCjaDok_o"
      },
      "source": [
        "**TARGETED RECOMMENDATIONS AND MARKETING STRATEGIES**"
      ]
    },
    {
      "cell_type": "code",
      "execution_count": 6,
      "metadata": {
        "id": "uae6-D1en9Zn",
        "colab": {
          "base_uri": "https://localhost:8080/"
        },
        "outputId": "d88fe33c-e90f-447b-bdd6-5772d0e6fb05"
      },
      "outputs": [
        {
          "output_type": "stream",
          "name": "stdout",
          "text": [
            "Suggested Marketing Strategies:\n",
            "- Focus on high reorder rate products for loyalty programs.\n",
            "- Bundle complementary products identified in affinity analysis for upselling.\n",
            "- Create personalized recommendations based on customer purchase history.\n",
            "Recommended Products for Upselling:\n",
            "                                         product_name\n",
            "0                          Chocolate Sandwich Cookies\n",
            "2                Robust Golden Unsweetened Oolong Tea\n",
            "3   Smart Ones Classic Favorites Mini Rigatoni Wit...\n",
            "9      Sparkling Orange Juice & Prickly Pear Beverage\n",
            "11                         Chocolate Fudge Layer Cake\n"
          ]
        },
        {
          "output_type": "stream",
          "name": "stderr",
          "text": [
            "/usr/local/lib/python3.10/dist-packages/ipykernel/ipkernel.py:283: DeprecationWarning: `should_run_async` will not call `transform_cell` automatically in the future. Please pass the result to `transformed_cell` argument and any exception that happen during thetransform in `preprocessing_exc_tuple` in IPython 7.17 and above.\n",
            "  and should_run_async(code)\n"
          ]
        }
      ],
      "source": [
        "# Define thresholds for high performance products\n",
        "high_reorder_threshold = product_performance['reordered'].quantile(0.75)\n",
        "\n",
        "# Filter high performing products\n",
        "high_performance_products = product_performance[product_performance['reordered'] > high_reorder_threshold]\n",
        "\n",
        "# Suggest targeted marketing strategies\n",
        "print(\"Suggested Marketing Strategies:\")\n",
        "print(\"- Focus on high reorder rate products for loyalty programs.\")\n",
        "print(\"- Bundle complementary products identified in affinity analysis for upselling.\")\n",
        "print(\"- Create personalized recommendations based on customer purchase history.\")\n",
        "\n",
        "# Recommend products based on product affinity analysis\n",
        "recommended_products = high_performance_products[['product_name']].head(5)\n",
        "print(\"Recommended Products for Upselling:\")\n",
        "print(recommended_products)"
      ]
    },
    {
      "cell_type": "markdown",
      "metadata": {
        "id": "kjimndYFqGJ4"
      },
      "source": [
        "**VISUALIZATION**"
      ]
    },
    {
      "cell_type": "code",
      "execution_count": 7,
      "metadata": {
        "id": "8jkLDBU5qJlK",
        "colab": {
          "base_uri": "https://localhost:8080/",
          "height": 773
        },
        "outputId": "87c64543-2b21-46ca-9797-dbfb44846c4a"
      },
      "outputs": [
        {
          "output_type": "stream",
          "name": "stderr",
          "text": [
            "/usr/local/lib/python3.10/dist-packages/ipykernel/ipkernel.py:283: DeprecationWarning: `should_run_async` will not call `transform_cell` automatically in the future. Please pass the result to `transformed_cell` argument and any exception that happen during thetransform in `preprocessing_exc_tuple` in IPython 7.17 and above.\n",
            "  and should_run_async(code)\n"
          ]
        },
        {
          "output_type": "display_data",
          "data": {
            "text/plain": [
              "<Figure size 1000x600 with 1 Axes>"
            ],
            "image/png": "[encoded data removed]"
          },
          "metadata": {}
        }
      ],
      "source": [
        "# Plot sales by product\n",
        "plt.figure(figsize=(10, 6))\n",
        "sns.barplot(x='product_name', y='reordered', data=top_products)\n",
        "plt.title('Top Reordered Products')\n",
        "plt.xticks(rotation=90)\n",
        "plt.show()\n"
      ]
    }
  ],
  "metadata": {
    "accelerator": "GPU",
    "colab": {
      "gpuType": "A100",
      "provenance": [],
      "machine_shape": "hm"
    },
    "kernelspec": {
      "display_name": "Python 3",
      "name": "python3"
    },
    "language_info": {
      "codemirror_mode": {
        "name": "ipython",
        "version": 3
      },
      "file_extension": ".py",
      "mimetype": "text/x-python",
      "name": "python",
      "nbconvert_exporter": "python",
      "pygments_lexer": "ipython3",
      "version": "3.9.13"
    }
  },
  "nbformat": 4,
  "nbformat_minor": 0
}
